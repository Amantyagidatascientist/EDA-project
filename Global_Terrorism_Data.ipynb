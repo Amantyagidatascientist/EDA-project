{
  "nbformat": 4,
  "nbformat_minor": 0,
  "metadata": {
    "colab": {
      "private_outputs": true,
      "provenance": [],
      "collapsed_sections": [
        "FJNUwmbgGyua",
        "w6K7xa23Elo4",
        "mDgbUHAGgjLW",
        "nA9Y7ga8ng1Z",
        "0wOQAZs5pc--",
        "lQ7QKXXCp7Bj",
        "448CDAPjqfQr",
        "t6dVpIINYklI",
        "ijmpgYnKYklI",
        "-JiQyfWJYklI",
        "EM7whBJCYoAo",
        "fge-S5ZAYoAp",
        "85gYPyotYoAp",
        "RoGjAbkUYoAp",
        "4Of9eVA-YrdM",
        "iky9q4vBYrdO",
        "F6T5p64dYrdO",
        "y-Ehk30pYrdP",
        "QHF8YVU7Yuh3",
        "qYpmQ266Yuh3",
        "OH-pJp9IphqM",
        "bbFf2-_FphqN",
        "_ouA3fa0phqN",
        "Seke61FWphqN",
        "PIIx-8_IphqN",
        "t27r6nlMphqO",
        "r2jJGEOYphqO",
        "b0JNsNcRphqO",
        "BZR9WyysphqO",
        "jj7wYXLtphqO",
        "eZrbJ2SmphqO",
        "rFu4xreNphqO",
        "YJ55k-q6phqO",
        "gCFgpxoyphqP",
        "OVtJsKN_phqQ",
        "lssrdh5qphqQ",
        "U2RJ9gkRphqQ",
        "1M8mcRywphqQ",
        "tgIPom80phqQ",
        "JMzcOPDDphqR",
        "x-EpHcCOp1ci",
        "X_VqEhTip1ck",
        "8zGJKyg5p1ck",
        "PVzmfK_Ep1ck",
        "n3dbpmDWp1ck",
        "ylSl6qgtp1ck",
        "ZWILFDl5p1ck",
        "M7G43BXep1ck",
        "Ag9LCva-p1cl",
        "E6MkPsBcp1cl",
        "2cELzS2fp1cl",
        "3MPXvC8up1cl",
        "NC_X3p0fY2L0",
        "UV0SzAkaZNRQ",
        "YPEH6qLeZNRQ",
        "q29F0dvdveiT",
        "EXh0U9oCveiU",
        "22aHeOlLveiV",
        "JcMwzZxoAimU",
        "8G2x9gOozGDZ",
        "gIfDvo9L0UH2"
      ],
      "cell_execution_strategy": "setup",
      "include_colab_link": true
    },
    "kernelspec": {
      "name": "python3",
      "display_name": "Python 3"
    },
    "language_info": {
      "name": "python"
    }
  },
  "cells": [
    {
      "cell_type": "markdown",
      "metadata": {
        "id": "view-in-github",
        "colab_type": "text"
      },
      "source": [
        "<a href=\"https://colab.research.google.com/github/Amantyagidatascientist/EDA-project/blob/main/Global_Terrorism_Data.ipynb\" target=\"_parent\"><img src=\"https://colab.research.google.com/assets/colab-badge.svg\" alt=\"Open In Colab\"/></a>"
      ]
    },
    {
      "cell_type": "markdown",
      "source": [
        "# **Project Name**    - Global Terrorism Dataset\n",
        "\n"
      ],
      "metadata": {
        "id": "vncDsAP0Gaoa"
      }
    },
    {
      "cell_type": "markdown",
      "source": [
        "##### **Project Type**    - EDA/Regression/Classification/Unsupervised\n",
        "##### **Contribution**    - Individual\n",
        "##### **Team Member 1 -    AMAN TYAGI"
      ],
      "metadata": {
        "id": "beRrZCGUAJYm"
      }
    },
    {
      "cell_type": "markdown",
      "source": [
        "# **Project Summary -**"
      ],
      "metadata": {
        "id": "FJNUwmbgGyua"
      }
    },
    {
      "cell_type": "markdown",
      "source": [
        "Hi, this is Aman Tyagi. I chose my first capstone project, the Global Terrorism Dataset. I completed this project individually, starting it on 30-10-2023 and finishing it on 3-11-2023. To begin, I uploaded the dataset to Google Drive and then accessed it on Google Colab notebook.\n",
        "\n",
        "I executed some basic commands, such as 'head()' and 'describe().' Following that, I performed some data wrangling tasks. I noticed that certain columns had incorrect data types, so I removed those. I also identified columns with 70% to 80% null values, which I subsequently removed. I also discovered some rows with unknown values and chose to exclude them from the analysis.\n",
        "\n",
        "Now, I have a dataset with 60 columns and 166,534 rows. In the data analysis, I first identified the data source. Then, I determined the top terrorist groups globally, weapon types used, the number of attacks, and the number of people killed by terrorist groups.\n",
        "\n",
        "Moving on to the most targeted country globally, Iraq, I found that the most active terrorist group there is (ISIL), and their common weapon is explosives. The most common target worldwide is private citizens.\n",
        "\n",
        "Shifting focus to our own country, India, I created a new dataset called 'India Data' and conducted analysis on various aspects. This included identifying the most active terrorist groups, cities, and the top 5 states facing attacks. I also determined which terrorist groups are most active in these states, when they started, and how active they are.\n",
        "\n",
        "Next, I delved into the analysis of our neighboring country, which is the second most impacted by terrorist attacks. I then created a heatmap to visualize null values in the dataset, with some columns having 30%-40% null values.\n",
        "\n",
        "Additionally, I used a pair plot to visualize the number of killings and the number of attacks on people, using 'success' as the hue. Lastly, I addressed the business objectives, writing 6 to 8 paragraphs in the global terrorist dataset. While the dataset did not contain many business objectives, I crafted concise conclusions point by point. I am excited to have learned so much from this project. Thank you for providing me with this opportunity.\"\n",
        "\n",
        "\n",
        "\n",
        "\n",
        "\n"
      ],
      "metadata": {
        "id": "F6v_1wHtG2nS"
      }
    },
    {
      "cell_type": "markdown",
      "source": [
        "# **GitHub Link -**"
      ],
      "metadata": {
        "id": "w6K7xa23Elo4"
      }
    },
    {
      "cell_type": "code",
      "source": [
        "# this is my github rapositories link of the Global Terrorism Dataset.\n",
        "'https://github.com/Amantyagidatascientist/EDA_projects/blob/main/Global_Terrorism_Data.ipynb'"
      ],
      "metadata": {
        "id": "XsvaG-jmWosj"
      },
      "execution_count": null,
      "outputs": []
    },
    {
      "cell_type": "markdown",
      "source": [
        "Provide your GitHub Link here."
      ],
      "metadata": {
        "id": "h1o69JH3Eqqn"
      }
    },
    {
      "cell_type": "markdown",
      "source": [
        "# **Problem Statement**\n"
      ],
      "metadata": {
        "id": "yQaldy8SH6Dl"
      }
    },
    {
      "cell_type": "markdown",
      "source": [
        "**Write Problem Statement Here.**"
      ],
      "metadata": {
        "id": "DpeJGUA3kjGy"
      }
    },
    {
      "cell_type": "markdown",
      "source": [
        "#### **Define Your Business Objective?**"
      ],
      "metadata": {
        "id": "PH-0ReGfmX4f"
      }
    },
    {
      "cell_type": "markdown",
      "source": [
        "Answer Here."
      ],
      "metadata": {
        "id": "PhDvGCAqmjP1"
      }
    },
    {
      "cell_type": "markdown",
      "source": [
        "# **General Guidelines** : -  "
      ],
      "metadata": {
        "id": "mDgbUHAGgjLW"
      }
    },
    {
      "cell_type": "markdown",
      "source": [
        "1.   Well-structured, formatted, and commented code is required.\n",
        "2.   Exception Handling, Production Grade Code & Deployment Ready Code will be a plus. Those students will be awarded some additional credits.\n",
        "     \n",
        "     The additional credits will have advantages over other students during Star Student selection.\n",
        "       \n",
        "             [ Note: - Deployment Ready Code is defined as, the whole .ipynb notebook should be executable in one go\n",
        "                       without a single error logged. ]\n",
        "\n",
        "3.   Each and every logic should have proper comments.\n",
        "4. You may add as many number of charts you want. Make Sure for each and every chart the following format should be answered.\n",
        "        \n",
        "\n",
        "```\n",
        "# Chart visualization code\n",
        "```\n",
        "            \n",
        "\n",
        "*   Why did you pick the specific chart?\n",
        "*   What is/are the insight(s) found from the chart?\n",
        "* Will the gained insights help creating a positive business impact?\n",
        "Are there any insights that lead to negative growth? Justify with specific reason.\n",
        "\n",
        "5. You have to create at least 20 logical & meaningful charts having important insights.\n",
        "\n",
        "\n",
        "[ Hints : - Do the Vizualization in  a structured way while following \"UBM\" Rule.\n",
        "\n",
        "U - Univariate Analysis,\n",
        "\n",
        "B - Bivariate Analysis (Numerical - Categorical, Numerical - Numerical, Categorical - Categorical)\n",
        "\n",
        "M - Multivariate Analysis\n",
        " ]\n",
        "\n",
        "\n",
        "\n"
      ],
      "metadata": {
        "id": "ZrxVaUj-hHfC"
      }
    },
    {
      "cell_type": "markdown",
      "source": [
        "# ***Let's Begin !***"
      ],
      "metadata": {
        "id": "O_i_v8NEhb9l"
      }
    },
    {
      "cell_type": "markdown",
      "source": [
        "## ***1. Know Your Data***"
      ],
      "metadata": {
        "id": "HhfV-JJviCcP"
      }
    },
    {
      "cell_type": "markdown",
      "source": [
        "### Import Libraries"
      ],
      "metadata": {
        "id": "Y3lxredqlCYt"
      }
    },
    {
      "cell_type": "code",
      "source": [
        "import pandas as pd\n",
        "import numpy as np\n",
        "import matplotlib.pyplot as plt\n",
        "import seaborn as sns\n",
        "import re"
      ],
      "metadata": {
        "id": "M8Vqi-pPk-HR"
      },
      "execution_count": null,
      "outputs": []
    },
    {
      "cell_type": "markdown",
      "source": [
        "### Dataset Loading"
      ],
      "metadata": {
        "id": "3RnN4peoiCZX"
      }
    },
    {
      "cell_type": "code",
      "source": [
        "from google.colab import drive\n",
        "drive.mount('/content/drive')"
      ],
      "metadata": {
        "id": "bMW6pfaPmzB2"
      },
      "execution_count": null,
      "outputs": []
    },
    {
      "cell_type": "code",
      "source": [
        "location='/content/drive/MyDrive/'\n",
        "data = pd.read_csv(location+'Global.csv', encoding='ISO-8859-1')"
      ],
      "metadata": {
        "id": "B1DuL2ydoWWl"
      },
      "execution_count": null,
      "outputs": []
    },
    {
      "cell_type": "markdown",
      "source": [
        "### Dataset First View"
      ],
      "metadata": {
        "id": "x71ZqKXriCWQ"
      }
    },
    {
      "cell_type": "code",
      "source": [
        "# Dataset First Look\n",
        "data.head()"
      ],
      "metadata": {
        "id": "LWNFOSvLl09H"
      },
      "execution_count": null,
      "outputs": []
    },
    {
      "cell_type": "code",
      "source": [
        "data.tail()"
      ],
      "metadata": {
        "id": "8OFGAMgmltkF"
      },
      "execution_count": null,
      "outputs": []
    },
    {
      "cell_type": "markdown",
      "source": [
        "### Dataset Rows & Columns count"
      ],
      "metadata": {
        "id": "7hBIi_osiCS2"
      }
    },
    {
      "cell_type": "code",
      "source": [
        "data.shape\n",
        "# this code show the rows=181691 and columns=135"
      ],
      "metadata": {
        "id": "Kllu7SJgmLij"
      },
      "execution_count": null,
      "outputs": []
    },
    {
      "cell_type": "markdown",
      "source": [
        "### Dataset Information"
      ],
      "metadata": {
        "id": "JlHwYmJAmNHm"
      }
    },
    {
      "cell_type": "code",
      "source": [
        "# Dataset Info\n",
        "data.info()"
      ],
      "metadata": {
        "id": "e9hRXRi6meOf"
      },
      "execution_count": null,
      "outputs": []
    },
    {
      "cell_type": "markdown",
      "source": [
        "#### Duplicate Values"
      ],
      "metadata": {
        "id": "35m5QtbWiB9F"
      }
    },
    {
      "cell_type": "code",
      "source": [
        "# Dataset Duplicate Value Count\n",
        "\n",
        "data[data.duplicated()]"
      ],
      "metadata": {
        "id": "1sLdpKYkmox0"
      },
      "execution_count": null,
      "outputs": []
    },
    {
      "cell_type": "markdown",
      "source": [
        "#### Missing Values/Null Values"
      ],
      "metadata": {
        "id": "PoPl-ycgm1ru"
      }
    },
    {
      "cell_type": "code",
      "source": [
        "# Missing Values/Null Values Count\n",
        "data.isnull().sum()"
      ],
      "metadata": {
        "id": "GgHWkxvamxVg"
      },
      "execution_count": null,
      "outputs": []
    },
    {
      "cell_type": "code",
      "source": [
        "# Visualizing the missing values\n",
        "data[data.isnull().any(axis=1)]"
      ],
      "metadata": {
        "id": "3q5wnI3om9sJ"
      },
      "execution_count": null,
      "outputs": []
    },
    {
      "cell_type": "markdown",
      "source": [
        "### What did you know about your dataset?"
      ],
      "metadata": {
        "id": "H0kj-8xxnORC"
      }
    },
    {
      "cell_type": "markdown",
      "source": [
        "1> The computer can't understand this dataset due to the error in the bytes  I use the encoding='ISO-8859-1'.           \n",
        "2> this dataset have the so many columns Warning datatype ex- 4,6,31,33,105 .        \n",
        "3> In this data set have the null value .some columns have the 70%-80% null values.                  \n",
        "4> this data_set not have the Duplicate values.\n"
      ],
      "metadata": {
        "id": "gfoNAAC-nUe_"
      }
    },
    {
      "cell_type": "markdown",
      "source": [
        "## ***2. Understanding Your Variables***"
      ],
      "metadata": {
        "id": "nA9Y7ga8ng1Z"
      }
    },
    {
      "cell_type": "code",
      "source": [
        "# Dataset Columns\n",
        "data.columns"
      ],
      "metadata": {
        "id": "j7xfkqrt5Ag5"
      },
      "execution_count": null,
      "outputs": []
    },
    {
      "cell_type": "code",
      "source": [
        "# Dataset Describe\n",
        "data.describe()"
      ],
      "metadata": {
        "id": "DnOaZdaE5Q5t"
      },
      "execution_count": null,
      "outputs": []
    },
    {
      "cell_type": "code",
      "source": [
        "data.describe(include='object')"
      ],
      "metadata": {
        "id": "2QXref_65Hef"
      },
      "execution_count": null,
      "outputs": []
    },
    {
      "cell_type": "markdown",
      "source": [
        "### Variables Description"
      ],
      "metadata": {
        "id": "PBTbrJXOngz2"
      }
    },
    {
      "cell_type": "markdown",
      "source": [
        "1>In the Variables Description show the in the some int values show in the object.\n",
        "\n",
        "2>show many null value in the object datatype compare to integer values"
      ],
      "metadata": {
        "id": "aJV4KIxSnxay"
      }
    },
    {
      "cell_type": "markdown",
      "source": [
        "### Check Unique Values for each variable."
      ],
      "metadata": {
        "id": "u3PMJOP6ngxN"
      }
    },
    {
      "cell_type": "code",
      "source": [
        "# Check Unique Values for each variable.\n",
        "data.nunique()"
      ],
      "metadata": {
        "id": "zms12Yq5n-jE"
      },
      "execution_count": null,
      "outputs": []
    },
    {
      "cell_type": "markdown",
      "source": [
        "## 3. ***Data Wrangling***"
      ],
      "metadata": {
        "id": "dauF4eBmngu3"
      }
    },
    {
      "cell_type": "markdown",
      "source": [
        "### Data Wrangling Code"
      ],
      "metadata": {
        "id": "bKJF3rekwFvQ"
      }
    },
    {
      "cell_type": "code",
      "source": [
        "# Write your code to make your dataset analysis ready.(4,6,31,33,61,62,63,76,79,90,92,94,96,114,115,121\n",
        "new_data=data.drop(data.iloc[:,[4,6,31,33,61,62,63,76,79,90,92,94,96,114,115,121]],axis=1)"
      ],
      "metadata": {
        "id": "wk-9a2fpoLcV"
      },
      "execution_count": null,
      "outputs": []
    },
    {
      "cell_type": "code",
      "source": [
        "show_top_null_col=new_data.isnull().sum().reset_index(name=\"null_value\")"
      ],
      "metadata": {
        "id": "STZlJQQYCpCK"
      },
      "execution_count": null,
      "outputs": []
    },
    {
      "cell_type": "code",
      "source": [
        "sort_data=show_top_null_col.sort_values(by='null_value',ascending=False).head(60)"
      ],
      "metadata": {
        "id": "BKOks2D1BTHx"
      },
      "execution_count": null,
      "outputs": []
    },
    {
      "cell_type": "code",
      "source": [
        "col=sort_data['index']\n",
        "new_data"
      ],
      "metadata": {
        "id": "ylr7zsBUBTLK"
      },
      "execution_count": null,
      "outputs": []
    },
    {
      "cell_type": "code",
      "source": [
        "new_data=new_data.drop(new_data.iloc[:,[ 83,  82,  70,  69,  60,  29, 105, 103,  68, 104,  50,  49,  48,\n",
        "             52,  53,  51,  46,  47, 102,  81,  80,  67,  59,  56,  99,  71,\n",
        "             55,  28, 100,  42, 108,  40,  41,  45,  44, 106, 107,  43,  38,\n",
        "             39,  79,  78,  76,  77,  98,  97,  66,  65, 118, 109,  21,  22,\n",
        "             94, 112,  57,  15,  95,  92,  93, 111]],axis=1)"
      ],
      "metadata": {
        "id": "IAfWftO5rUP1"
      },
      "execution_count": null,
      "outputs": []
    },
    {
      "cell_type": "code",
      "source": [
        "new_data['ransom']=new_data['ransom'].fillna(0)"
      ],
      "metadata": {
        "id": "ZgUNSh4yrUhJ"
      },
      "execution_count": null,
      "outputs": []
    },
    {
      "cell_type": "code",
      "source": [
        "new_data['ransom'].isnull().sum()"
      ],
      "metadata": {
        "id": "hyfI-NL7bnkN"
      },
      "execution_count": null,
      "outputs": []
    },
    {
      "cell_type": "code",
      "source": [
        "new_data=new_data[new_data['weaptype1_txt']!='Unknown']"
      ],
      "metadata": {
        "id": "3zJ3no9nCuOd"
      },
      "execution_count": null,
      "outputs": []
    },
    {
      "cell_type": "code",
      "source": [
        "new_data.columns"
      ],
      "metadata": {
        "id": "mbEJq3WefXgb"
      },
      "execution_count": null,
      "outputs": []
    },
    {
      "cell_type": "code",
      "source": [
        "new_data['weaptype1_txt'].value_counts()"
      ],
      "metadata": {
        "id": "rdkouMYKcg4F"
      },
      "execution_count": null,
      "outputs": []
    },
    {
      "cell_type": "code",
      "source": [
        "new_data.shape"
      ],
      "metadata": {
        "id": "qJYMtkXkNQo0"
      },
      "execution_count": null,
      "outputs": []
    },
    {
      "cell_type": "markdown",
      "source": [
        "### What all manipulations have you done and insights you found?"
      ],
      "metadata": {
        "id": "MSa1f5Uengrz"
      }
    },
    {
      "cell_type": "markdown",
      "source": [
        "1> First i found some data have the rong datatype and all the value is null i drop the columns.\n",
        "\n",
        "2> Second i found the some columns have the 70% to 90% null value i drop those columns.\n",
        "\n",
        "3> Third i found the i work on the ransom columns so many null value i fill the null values to 0.\n",
        "\n",
        "4> now i have the 59 columns i work on this columns.\n",
        "\n",
        "5> I see the so many value is the Unknown i remove the rowon the dataset"
      ],
      "metadata": {
        "id": "LbyXE7I1olp8"
      }
    },
    {
      "cell_type": "markdown",
      "source": [
        "## ***4. Data Vizualization, Storytelling & Experimenting with charts : Understand the relationships between variables***"
      ],
      "metadata": {
        "id": "GF8Ens_Soomf"
      }
    },
    {
      "cell_type": "markdown",
      "source": [
        "#### Chart - 1\n",
        "Q1 > find the source of data and weightage of the source?"
      ],
      "metadata": {
        "id": "0wOQAZs5pc--"
      }
    },
    {
      "cell_type": "code",
      "source": [
        "# Chart - 1 visualization code\n",
        "data_source=new_data['dbsource'].value_counts().reset_index()\n",
        "data_source"
      ],
      "metadata": {
        "id": "7v_ESjsspbW7"
      },
      "execution_count": null,
      "outputs": []
    },
    {
      "cell_type": "code",
      "source": [
        "top_5=data_source.head(4)\n",
        "other_source=data_source.iloc[5:]['dbsource'].sum()\n",
        "new_d=pd.DataFrame({'index':['other'],\"dbsource\":[other_source]})\n",
        "new_db=pd.concat([top_5,new_d])\n",
        "new_db"
      ],
      "metadata": {
        "id": "x02eZee1oBHt"
      },
      "execution_count": null,
      "outputs": []
    },
    {
      "cell_type": "code",
      "source": [
        "plt.figure(figsize=(7,7))\n",
        "explode=[0.1,0,0,0,0]\n",
        "plt.pie(new_db['dbsource'],labels=new_db['index'],autopct=\"%1.2f%%\",startangle=45,shadow=True,explode=explode,wedgeprops={'edgecolor':'k'})\n",
        "plt.title(\"SOURCE OF THE DATA\")\n",
        "plt.show()"
      ],
      "metadata": {
        "id": "0Fcm5BHuiFO1"
      },
      "execution_count": null,
      "outputs": []
    },
    {
      "cell_type": "markdown",
      "source": [
        "1. Why did you pick the specific chart?"
      ],
      "metadata": {
        "id": "r9tqfT6dxkVa"
      }
    },
    {
      "cell_type": "markdown",
      "source": [
        "I used a pie chart because it allows us to display numeric values alongside their corresponding percentages. With just five values in this scenario, a pie chart is the most effective way to present this data. Furthermore, pie charts offer various attributes such as edgecolor, shadow, labels, and autopct, which can enhance the visual representation.\n"
      ],
      "metadata": {
        "id": "CCnNKJ6Nx2Ky"
      }
    },
    {
      "cell_type": "markdown",
      "source": [
        "##### 2. What is/are the insight(s) found from the chart?"
      ],
      "metadata": {
        "id": "lQ7QKXXCp7Bj"
      }
    },
    {
      "cell_type": "markdown",
      "source": [
        "\n",
        "I've gathered data from 25 different sources in the dataset, but the bulk of the data comes from just four sources. Specifically, START Primary Collection, PGIS, ISVG, and CETIS contribute the majority of the data, totaling 97.23%. The remaining sources collectively contribute only 2.77%. It's worth noting that START Primary Collection alone represents a significant portion at 43.31% of the dataset.."
      ],
      "metadata": {
        "id": "C_j1G7yiqdRP"
      }
    },
    {
      "cell_type": "markdown",
      "source": [
        "##### 3. Will the gained insights help creating a positive business impact?\n",
        "Are there any insights that lead to negative growth? Justify with specific reason"
      ],
      "metadata": {
        "id": "448CDAPjqfQr"
      }
    },
    {
      "cell_type": "markdown",
      "source": [
        "1> \"We need more data for analysis, so we'll visit websites to find high-quality data for analysis.\"\n",
        "\n",
        "2>This version should be more straightforward and easier to understand.\n",
        "\n",
        "1>Collect Data from Websites: If you can't find your data ready to download, you might consider web scraping, but be sure to follow the rules of the website.\n",
        "\n",
        "**negative growth**\n",
        "\n",
        "1>when we do the web scraping for gather the data from the website  Legality and Ethical Concerns we face.\n",
        "\n",
        "2>Legality and Ethical Concerns: Web scraping may infringe on the terms of service of websites, leading to legal issues or ethical concerns. Some websites explicitly prohibit scraping in their terms of use"
      ],
      "metadata": {
        "id": "3cspy4FjqxJW"
      }
    },
    {
      "cell_type": "markdown",
      "source": [
        "#### Chart - 2\n",
        "Q2 > what was the growth in the number of killings from year to year and What are the top 10 years with the highest number of people killed?"
      ],
      "metadata": {
        "id": "KSlN3yHqYklG"
      }
    },
    {
      "cell_type": "code",
      "source": [
        "# Chart - 2 visualization code\n",
        "n_kill=new_data.groupby('iyear')[['nkill']].sum()\n",
        "n_kill.sort_values(by='nkill',inplace=True,ascending=False)\n",
        "top_10=n_kill.head(10)\n",
        "y_kill=new_data.groupby('iyear')[['nkill']].sum()\n",
        "year_kill=new_data.groupby('iyear')[['nkill']].sum()\n"
      ],
      "metadata": {
        "id": "R4YgtaqtYklH"
      },
      "execution_count": null,
      "outputs": []
    },
    {
      "cell_type": "code",
      "source": [
        "plt.figure(figsize=(7,4))\n",
        "plt.title(\"NUMBER OF PEOPLE KILLED BY TERRORIST IN THE 1970-2017\")\n",
        "plt.xlabel(\"year\")\n",
        "plt.ylabel(\"number of kill\")\n",
        "plt.plot(year_kill.index,year_kill['nkill'],marker='^',color='#FF8C00',label='per year killed')\n",
        "plt.bar(top_10.index,top_10['nkill'],color='#FFA07A',label=\"top 10 year\")\n",
        "plt.legend()\n",
        "plt.show()"
      ],
      "metadata": {
        "id": "fnXu0sn_FAtM"
      },
      "execution_count": null,
      "outputs": []
    },
    {
      "cell_type": "markdown",
      "source": [
        "##### 1. Why did you pick the specific chart?"
      ],
      "metadata": {
        "id": "t6dVpIINYklI"
      }
    },
    {
      "cell_type": "markdown",
      "source": [
        "I use the two plot in the one chart line plot and bar plot.\n",
        "\n",
        "1 > line plot : line plot is the best for the show information that changes over time we show the kill per year in the line plot 1970-2017.\n",
        "\n",
        "2 >bar plot : bar plot is the show the categorical variable we show the top ten year kill by the terrorist group.\n"
      ],
      "metadata": {
        "id": "5aaW0BYyYklI"
      }
    },
    {
      "cell_type": "markdown",
      "source": [
        "##### 2. What is/are the insight(s) found from the chart?"
      ],
      "metadata": {
        "id": "ijmpgYnKYklI"
      }
    },
    {
      "cell_type": "markdown",
      "source": [
        "line plot >\n",
        "1970-1980: Approximately 100-500 people killed by terrorist groups.\n",
        "1980-2008: The number of people killed by terrorist groups increased significantly to around 8000-10000.\n",
        "2008-2017: During this period, terrorist groups were most active, resulting in a high number of casualties, with approximately 15000-40000 people killed\n",
        "\n",
        "bar plot > The bar plot reveals the top 10 years in which terrorist groups were responsible for the most casualties. Notably, a substantial shift occurred after 2012, with approximately 60% of the data showing a surge in fatalities caused by these groups. This increase suggests a significant upturn in terrorist activities and their impact on global security during this period"
      ],
      "metadata": {
        "id": "PSx9atu2YklI"
      }
    },
    {
      "cell_type": "markdown",
      "source": [
        "##### 3. Will the gained insights help creating a positive business impact?\n",
        "Are there any insights that lead to negative growth? Justify with specific reason."
      ],
      "metadata": {
        "id": "-JiQyfWJYklI"
      }
    },
    {
      "cell_type": "markdown",
      "source": [
        "After 2010, we observe a significant increase in the activity of terrorist groups. The attacks on innocent people have escalated, with a 70% rise in attacks post-2010. To counter this threat and protect lives, it's essential to develop effective strategies and preventive measures to stop these attacks and ensure the safety of the people"
      ],
      "metadata": {
        "id": "BcBbebzrYklV"
      }
    },
    {
      "cell_type": "markdown",
      "source": [
        "#### Chart - 3\n",
        "\n",
        "Q3 > which country are most attack and which terrorist group most active ?"
      ],
      "metadata": {
        "id": "EM7whBJCYoAo"
      }
    },
    {
      "cell_type": "code",
      "source": [
        "# Chart - 3 visualization code\n",
        "top_15=new_data['country_txt'].value_counts().reset_index()\n",
        "country_count=top_15.head(50)\n",
        "print(country_count.tail)"
      ],
      "metadata": {
        "id": "t6GMdE67YoAp"
      },
      "execution_count": null,
      "outputs": []
    },
    {
      "cell_type": "code",
      "source": [
        "group_name=new_data['gname'].value_counts().reset_index().head(50).loc[1:]\n",
        "group_name"
      ],
      "metadata": {
        "id": "R_nghk43RkoH"
      },
      "execution_count": null,
      "outputs": []
    },
    {
      "cell_type": "code",
      "source": [
        "plt.style.use('ggplot')\n",
        "fig,(ax1,ax2)=plt.subplots(1,2,figsize=(16,12))\n",
        "ax2=sns.barplot(data=country_count,x='country_txt',y='index',ax=ax2)\n",
        "ax2.bar_label(ax2.containers[0],fontsize=10)\n",
        "# ax1.set_xticks(rotation=90)\n",
        "ax2.set_title(\"Top 50 Attack Country\",fontsize=15)\n",
        "ax2.set_xlabel(\"attack by terrorist\")\n",
        "ax2.set_ylabel(\"Country\")\n",
        "ax1=sns.barplot(data=group_name,x='gname',y='index',ax=ax1)\n",
        "ax1.bar_label(ax1.containers[0],fontsize=10)\n",
        "# ax2.set_xticks(rotation=90)\n",
        "ax1.set_title(\"Information of the Terrorist Group\",fontsize=15)\n",
        "ax1.set_ylabel(\"Terrorist group Name\")\n",
        "ax1.set_xlabel(\"Number of Attack\")\n",
        "plt.show()"
      ],
      "metadata": {
        "id": "tFp--AbE9xec"
      },
      "execution_count": null,
      "outputs": []
    },
    {
      "cell_type": "markdown",
      "source": [
        "##### 1. Why did you pick the specific chart?"
      ],
      "metadata": {
        "id": "fge-S5ZAYoAp"
      }
    },
    {
      "cell_type": "markdown",
      "source": [
        " I used a horizontal bar chart from Seaborn to present a large amount of categorical data. It's designed to make the data easier to understand."
      ],
      "metadata": {
        "id": "5dBItgRVYoAp"
      }
    },
    {
      "cell_type": "markdown",
      "source": [
        "##### 2. What is/are the insight(s) found from the chart?"
      ],
      "metadata": {
        "id": "85gYPyotYoAp"
      }
    },
    {
      "cell_type": "markdown",
      "source": [
        "The data analysis reveals which country is the primary target of terrorist activities, as well as which terrorist group is the most active. This information is presented through separate charts.\n",
        "\n",
        "1 >More than 50% of the attacks occurred in four countries: Iraq, Pakistan, Afghanistan, and India.\n",
        "\n",
        "2 >We observed that 70% of the attacks were not claimed by any specific group, and the Taliban emerged as the most active group."
      ],
      "metadata": {
        "id": "4jstXR6OYoAp"
      }
    },
    {
      "cell_type": "markdown",
      "source": [
        "##### 3. Will the gained insights help creating a positive business impact?\n",
        "1 >We identified the most active terrorist groups, and we noticed a significant number of attacks remain unclaimed by any group. Let's start by examining the unidentified or 'unknown' groups.\n",
        "\n",
        "2 >We've determined which country experiences the highest number of attacks. This information will help us develop unique strategies to prevent attacks in other countries."
      ],
      "metadata": {
        "id": "RoGjAbkUYoAp"
      }
    },
    {
      "cell_type": "markdown",
      "source": [],
      "metadata": {
        "id": "zfJ8IqMcYoAp"
      }
    },
    {
      "cell_type": "markdown",
      "source": [
        "#### Chart - 4\n",
        "Q4 > During the years 2010 to 2017, which terrorist group was the most active in the Iraq, and what types of weapons did they commonly use?"
      ],
      "metadata": {
        "id": "4Of9eVA-YrdM"
      }
    },
    {
      "cell_type": "code",
      "source": [
        "data_during=new_data[(new_data['iyear']>=2010) & (new_data['country_txt']=='Iraq')]\n",
        "data_during['count'] = 1\n",
        "group_data=data_during.groupby(['gname','weaptype1_txt'])[['count']].count().sort_values(by='count',ascending=False).head(20).reset_index()\n",
        "print(group_data)"
      ],
      "metadata": {
        "id": "hdl2FdNapjF1"
      },
      "execution_count": null,
      "outputs": []
    },
    {
      "cell_type": "code",
      "source": [
        "plt.figure(figsize=(12,6))\n",
        "ax=sns.barplot(data=group_data,x='gname',y='count',hue='weaptype1_txt')\n",
        "for p in ax.patches:\n",
        "  ax.annotate(f'{p.get_height():.0f}', (p.get_x() + p.get_width() / 2., p.get_height()), ha='center', va='baseline', fontsize=8, color='black')\n",
        "plt.title('Iraq Attack Detail by The Terrorist ')\n",
        "plt.legend(loc='upper right')\n",
        "plt.xlabel('Terrorist Group Name')\n",
        "plt.ylabel(\"Number of Attack\")\n",
        "plt.xticks(rotation=90)\n",
        "plt.show()"
      ],
      "metadata": {
        "id": "irlUoxc8YrdO"
      },
      "execution_count": null,
      "outputs": []
    },
    {
      "cell_type": "markdown",
      "source": [
        "##### 1. Why did you pick the specific chart?"
      ],
      "metadata": {
        "id": "iky9q4vBYrdO"
      }
    },
    {
      "cell_type": "markdown",
      "source": [
        "I use the bar plot of the seaborn because it's show the subbar in the chart good way"
      ],
      "metadata": {
        "id": "aJRCwT6DYrdO"
      }
    },
    {
      "cell_type": "markdown",
      "source": [
        "##### 2. What is/are the insight(s) found from the chart?"
      ],
      "metadata": {
        "id": "F6T5p64dYrdO"
      }
    },
    {
      "cell_type": "markdown",
      "source": [
        "Looking at the chart, we can see that the Islamic State of Iraq and the Levant (ISIL) is the most active terrorist group in Iraq. However, it's important to note that a significant portion of the attacks are attributed to 'unknown' groups.\n",
        "\n",
        "When we examine the types of weapons used, it's clear that the majority of these groups employ explosives and firearms"
      ],
      "metadata": {
        "id": "Xx8WAJvtYrdO"
      }
    },
    {
      "cell_type": "markdown",
      "source": [
        "##### 3. Will the gained insights help creating a positive business impact?\n",
        "Are there any insights that lead to negative growth? Justify with specific reason."
      ],
      "metadata": {
        "id": "y-Ehk30pYrdP"
      }
    },
    {
      "cell_type": "markdown",
      "source": [
        "We've noticed that the majority of attacks are carried out by known groups, and our efforts to prevent these attacks have led to a significant reduction of 40% to 50% in attacks in Iraq. The primary group responsible for these attacks is the Islamic State of Iraq and the Levant (ISIL).\n",
        "\n",
        "Additionally, we've observed that these groups primarily use explosives and firearms. Our next step is to locate the sources of these weapons and disrupt their supply.\""
      ],
      "metadata": {
        "id": "jLNxxz7MYrdP"
      }
    },
    {
      "cell_type": "markdown",
      "source": [
        "#### Chart - 5\n",
        "Q5 >  We've determined the geographical areas where terrorist group attacks are most frequent and target type?"
      ],
      "metadata": {
        "id": "bamQiAODYuh1"
      }
    },
    {
      "cell_type": "code",
      "source": [
        "plt.figure(figsize=(18,7))\n",
        "sns.countplot(x=new_data['region_txt'],hue=new_data['targtype1_txt'])\n",
        "plt.legend(loc='upper left',fontsize=8)\n",
        "plt.xlabel('Region')\n",
        "plt.ylabel(\"Number of Attack\")\n",
        "plt.title(\"Show the data as the Region and Targt Type\")\n",
        "plt.xticks(rotation=90)\n",
        "plt.show()"
      ],
      "metadata": {
        "id": "COJDLowMqSSW"
      },
      "execution_count": null,
      "outputs": []
    },
    {
      "cell_type": "markdown",
      "source": [
        "##### 1. Why did you pick the specific chart?"
      ],
      "metadata": {
        "id": "QHF8YVU7Yuh3"
      }
    },
    {
      "cell_type": "markdown",
      "source": [
        "I selected a countplot to display the data of regions, where it counts the occurrences and displays the results. I used 'hue' to check the target type within each region"
      ],
      "metadata": {
        "id": "dcxuIMRPYuh3"
      }
    },
    {
      "cell_type": "markdown",
      "source": [
        "##### 2. What is/are the insight(s) found from the chart?"
      ],
      "metadata": {
        "id": "GwzvFGzlYuh3"
      }
    },
    {
      "cell_type": "markdown",
      "source": [
        "We see the number of attack in the region and target type.I see the most attack region is the Middle East and North Africa and the most target is the Private citizens and Property.\n",
        "\n",
        "We see the most safe region is the Australasia and Oceania."
      ],
      "metadata": {
        "id": "uyqkiB8YYuh3"
      }
    },
    {
      "cell_type": "markdown",
      "source": [
        "##### 3. Will the gained insights help creating a positive business impact?\n",
        "Are there any insights that lead to negative growth? Justify with specific reason."
      ],
      "metadata": {
        "id": "qYpmQ266Yuh3"
      }
    },
    {
      "cell_type": "markdown",
      "source": [
        "we see the most attack region is the Middle East and North Africa and South Asia we also find the most target type is (Private citizens and Property) and Government  safe the target more focase on the that target"
      ],
      "metadata": {
        "id": "_WtzZ_hCYuh4"
      }
    },
    {
      "cell_type": "markdown",
      "source": [
        "#### Chart - 6\n",
        "Q6 > which terrorist group was the most active in the India, and what types of weapons did they commonly use.\n"
      ],
      "metadata": {
        "id": "OH-pJp9IphqM"
      }
    },
    {
      "cell_type": "code",
      "source": [
        "india_data=new_data[new_data['country_txt']=='India']"
      ],
      "metadata": {
        "id": "kuRf4wtuphqN"
      },
      "execution_count": null,
      "outputs": []
    },
    {
      "cell_type": "code",
      "source": [
        "show_gname=india_data.groupby(['gname','weaptype1_txt']).count().sort_values('extended',ascending=False).reset_index().head(40)\n",
        "with_out_u=show_gname[show_gname['gname']!='Unknown']"
      ],
      "metadata": {
        "id": "v27GshLDDQx7"
      },
      "execution_count": null,
      "outputs": []
    },
    {
      "cell_type": "code",
      "source": [
        "plt.figure(figsize=(10,6))\n",
        "sns.barplot(data=with_out_u,x='gname',y='extended',hue='weaptype1_txt')\n",
        "plt.legend(loc='upper right')\n",
        "plt.title('with out unknown Indian Terrorist GROUP And Weapn')\n",
        "plt.ylabel(\"number of attack\")\n",
        "plt.xlabel(\"Group Name\")\n",
        "plt.xticks(rotation=90)\n",
        "plt.show()"
      ],
      "metadata": {
        "id": "bq4i8Hp88KxD"
      },
      "execution_count": null,
      "outputs": []
    },
    {
      "cell_type": "markdown",
      "source": [
        "##### 1. Why did you pick the specific chart?"
      ],
      "metadata": {
        "id": "bbFf2-_FphqN"
      }
    },
    {
      "cell_type": "markdown",
      "source": [
        "I used a bar plot, which is suitable for categorical data, and I placed numeric values on the y-axis. I used 'hue' to display subcategories within the data."
      ],
      "metadata": {
        "id": "loh7H2nzphqN"
      }
    },
    {
      "cell_type": "markdown",
      "source": [
        "##### 2. What is/are the insight(s) found from the chart?"
      ],
      "metadata": {
        "id": "_ouA3fa0phqN"
      }
    },
    {
      "cell_type": "markdown",
      "source": [
        "We noticed that globally, the most common method of attack is explosives. However, in India, the primary method is firearms.\n",
        "\n",
        "While 'unknown' groups account for a significant portion of attacks overall, it's important to highlight that in India, the prominent terrorist group is CPI-Maoist, known for using both explosives and firearms."
      ],
      "metadata": {
        "id": "VECbqPI7phqN"
      }
    },
    {
      "cell_type": "markdown",
      "source": [
        "##### 3. Will the gained insights help creating a positive business impact?\n",
        "Are there any insights that lead to negative growth? Justify with specific reason."
      ],
      "metadata": {
        "id": "Seke61FWphqN"
      }
    },
    {
      "cell_type": "markdown",
      "source": [
        "To stop these attacks, we've taken action by banning certain groups. Additionally, we're working to strengthen laws to prevent the carrying of firearms, as we're aware that weapons play a significant role in these attacks."
      ],
      "metadata": {
        "id": "DW4_bGpfphqN"
      }
    },
    {
      "cell_type": "markdown",
      "source": [
        "#### Chart - 7\n",
        "Which Indian city have the most Attack?"
      ],
      "metadata": {
        "id": "PIIx-8_IphqN"
      }
    },
    {
      "cell_type": "code",
      "source": [
        "india_data['count']=1\n",
        "india_data"
      ],
      "metadata": {
        "id": "c0H2ogmewCHk"
      },
      "execution_count": null,
      "outputs": []
    },
    {
      "cell_type": "code",
      "source": [
        "city_new=india_data['city'].value_counts().reset_index().head(50)\n",
        "city_new=city_new[city_new['index']!='Unknown']\n",
        "def df_new(df):\n",
        "  if df['index']=='Bombay':\n",
        "    return 'Mumbai'\n",
        "  elif df['index']=='New Delhi':\n",
        "    return 'Delhi'\n",
        "  else:\n",
        "    return df['index']\n",
        "city_new['index']=city_new.apply(df_new,axis=1)\n",
        "city_new=city_new.groupby('index')['city'].sum().reset_index()\n",
        "city_new"
      ],
      "metadata": {
        "id": "lqAIGUfyphqO"
      },
      "execution_count": null,
      "outputs": []
    },
    {
      "cell_type": "code",
      "source": [
        "plt.figure(figsize=(10,4))\n",
        "sns.barplot(data=city_new,x='index',y='city')\n",
        "plt.xticks(rotation=90)\n",
        "plt.xlabel(\"city\")\n",
        "plt.ylabel(\"number of attack\")"
      ],
      "metadata": {
        "id": "nx4FAnwOqAl7"
      },
      "execution_count": null,
      "outputs": []
    },
    {
      "cell_type": "markdown",
      "source": [
        "##### 1. Why did you pick the specific chart?\n",
        "I utilized a bar plot from Seaborn, which effectively presents a large number of categorical values."
      ],
      "metadata": {
        "id": "t27r6nlMphqO"
      }
    },
    {
      "cell_type": "markdown",
      "source": [
        "Answer Here."
      ],
      "metadata": {
        "id": "iv6ro40sphqO"
      }
    },
    {
      "cell_type": "markdown",
      "source": [
        "##### 2. What is/are the insight(s) found from the chart?"
      ],
      "metadata": {
        "id": "r2jJGEOYphqO"
      }
    },
    {
      "cell_type": "markdown",
      "source": [
        "We've noticed that Srinagar and Imphal are the cities with the highest number of attacks in India. It's also worth noting that some city names change over the years, but the dataset treats them as separate cities. mumbai and delhi"
      ],
      "metadata": {
        "id": "Po6ZPi4hphqO"
      }
    },
    {
      "cell_type": "markdown",
      "source": [
        "##### 3. Will the gained insights help creating a positive business impact?\n",
        "Are there any insights that lead to negative growth? Justify with specific reason."
      ],
      "metadata": {
        "id": "b0JNsNcRphqO"
      }
    },
    {
      "cell_type": "markdown",
      "source": [
        "Now that we've identified the cities with the most attacks in India, we'll work on enhancing security in these areas and intensify efforts to identify and apprehend the attackers"
      ],
      "metadata": {
        "id": "xvSq8iUTphqO"
      }
    },
    {
      "cell_type": "markdown",
      "source": [
        "#### Chart - 8\n",
        "Among Indian states, which are the top 5 states that have experienced the most terrorist attacks, and can you identify the terrorist groups responsible for these attacks in those states?"
      ],
      "metadata": {
        "id": "BZR9WyysphqO"
      }
    },
    {
      "cell_type": "code",
      "source": [
        "india_data.columns\n",
        "top_state=india_data['provstate'].value_counts().reset_index().head()\n",
        "top_5=top_state['index'].unique().tolist()\n",
        "top_5"
      ],
      "metadata": {
        "id": "TdPTWpAVphqO"
      },
      "execution_count": null,
      "outputs": []
    },
    {
      "cell_type": "code",
      "source": [
        "manipur_s=india_data[india_data['provstate']=='Manipur']\n",
        "ma_g=manipur_s.groupby('gname')['count'].sum().sort_values(ascending=False).reset_index().iloc[1,0]\n",
        "ma_g"
      ],
      "metadata": {
        "id": "IGOSKMzsS4Xd"
      },
      "execution_count": null,
      "outputs": []
    },
    {
      "cell_type": "code",
      "source": [
        "india_data.columns\n",
        "top_group=india_data[india_data['gname']!='Unknown']\n",
        "top_group=top_group['gname'].value_counts().reset_index().head()\n",
        "top_list=top_group['index'].unique().tolist()\n",
        "top_list.append(ma_g)\n",
        "top_list"
      ],
      "metadata": {
        "id": "V0FaCuzOS8tl"
      },
      "execution_count": null,
      "outputs": []
    },
    {
      "cell_type": "code",
      "source": [
        "new_state=india_data[(india_data['provstate'].isin(top_5)) &(india_data['gname'].isin(top_list))]\n",
        "plt.figure(figsize=(10,8))\n",
        "sns.countplot(data=new_state,x='provstate',hue='gname')\n",
        "plt.title(\"Top 5 State And Terrorist Group Name\")\n",
        "plt.xlabel(\"State\")\n",
        "plt.ylabel(\"Number of Attack\")\n",
        "legend=plt.legend()\n",
        "legend.set_title=(\"Terrorist Group\")"
      ],
      "metadata": {
        "id": "BUK3C7lzTApI"
      },
      "execution_count": null,
      "outputs": []
    },
    {
      "cell_type": "markdown",
      "source": [
        "##### 1. Why did you pick the specific chart?"
      ],
      "metadata": {
        "id": "jj7wYXLtphqO"
      }
    },
    {
      "cell_type": "markdown",
      "source": [
        "We used a bar plot because it's great for showing subplots, and we created it with the help of Seaborn"
      ],
      "metadata": {
        "id": "Ob8u6rCTphqO"
      }
    },
    {
      "cell_type": "markdown",
      "source": [
        "##### 2. What is/are the insight(s) found from the chart?"
      ],
      "metadata": {
        "id": "eZrbJ2SmphqO"
      }
    },
    {
      "cell_type": "markdown",
      "source": [
        "The chart output allows us to identify the top five states in India that have been targeted by terrorist groups, and it also reveals which terrorist group is the most active in these states"
      ],
      "metadata": {
        "id": "mZtgC_hjphqO"
      }
    },
    {
      "cell_type": "markdown",
      "source": [
        "##### 3. Will the gained insights help creating a positive business impact?\n",
        "Are there any insights that lead to negative growth? Justify with specific reason."
      ],
      "metadata": {
        "id": "rFu4xreNphqO"
      }
    },
    {
      "cell_type": "markdown",
      "source": [
        "We now know which terrorist group is the most active in each state, and we've developed various strategies to prevent their attacks in different regions"
      ],
      "metadata": {
        "id": "ey_0qi68phqO"
      }
    },
    {
      "cell_type": "markdown",
      "source": [
        "#### Chart - 9\n",
        "We've displayed the growth of the top 5 terrorist groups in India 1970-2017"
      ],
      "metadata": {
        "id": "YJ55k-q6phqO"
      }
    },
    {
      "cell_type": "code",
      "source": [
        "top_10_group=india_data['gname'].value_counts().reset_index().loc[1:6]\n",
        "top_10_g_name=top_10_group['index'].unique().tolist()\n",
        "top_10_g_name"
      ],
      "metadata": {
        "id": "B2aS4O1ophqO"
      },
      "execution_count": null,
      "outputs": []
    },
    {
      "cell_type": "code",
      "source": [
        "top_10_df=india_data[india_data['gname'].isin(top_10_g_name)]\n",
        "plt.figure(figsize=(10,10))\n",
        "top_10_dff=top_10_df.groupby(['iyear','gname'])[['nkill']].sum()\n",
        "sns.lineplot(data=top_10_dff,x='iyear',y='nkill',hue='gname')\n",
        "plt.title(\"Number of People Kill by the Terrorist Group\")\n",
        "plt.xlabel(\"Year\")\n",
        "plt.ylabel(\"Number of the People\")\n",
        "legend=plt.legend()\n",
        "legend.set_title(\"Group Name\")\n",
        "plt.show()"
      ],
      "metadata": {
        "id": "Pf47sX2tW9rN"
      },
      "execution_count": null,
      "outputs": []
    },
    {
      "cell_type": "markdown",
      "source": [
        "##### 1. Why did you pick the specific chart?"
      ],
      "metadata": {
        "id": "gCFgpxoyphqP"
      }
    },
    {
      "cell_type": "markdown",
      "source": [
        "Time Series Data: Line plots are particularly useful for visualizing time series data, where data points are collected at regular intervals.\n",
        "Trends and Patterns: Line plots are excellent for showing trends, patterns, and changes in data over time or across continuous variables"
      ],
      "metadata": {
        "id": "TVxDimi2phqP"
      }
    },
    {
      "cell_type": "markdown",
      "source": [
        "##### 2. What is/are the insight(s) found from the chart?"
      ],
      "metadata": {
        "id": "OVtJsKN_phqQ"
      }
    },
    {
      "cell_type": "markdown",
      "source": [
        "we the the most of the group start after the 1980. and show the some group some sarten pride most ative and see the pik of the kill"
      ],
      "metadata": {
        "id": "ngGi97qjphqQ"
      }
    },
    {
      "cell_type": "markdown",
      "source": [
        "##### 3. Will the gained insights help creating a positive business impact?\n",
        "we find the some terrorist group stability in Pride between 1980 and 1997. However, we needed to uncover the motive behind the killings in order to resolve the issue."
      ],
      "metadata": {
        "id": "lssrdh5qphqQ"
      }
    },
    {
      "cell_type": "markdown",
      "source": [],
      "metadata": {
        "id": "tBpY5ekJphqQ"
      }
    },
    {
      "cell_type": "markdown",
      "source": [
        "#### Chart - 10\n",
        "Most common target type in India?"
      ],
      "metadata": {
        "id": "U2RJ9gkRphqQ"
      }
    },
    {
      "cell_type": "code",
      "source": [
        "new_data.columns"
      ],
      "metadata": {
        "id": "GM7a4YP4phqQ"
      },
      "execution_count": null,
      "outputs": []
    },
    {
      "cell_type": "code",
      "source": [
        "target_type=india_data['targtype1_txt'].value_counts().head(19).reset_index()\n",
        "target_type=target_type[target_type['index']!='Unknown']\n",
        "target_type"
      ],
      "metadata": {
        "id": "rbSQjUN0jLac"
      },
      "execution_count": null,
      "outputs": []
    },
    {
      "cell_type": "code",
      "source": [
        "plt.figure(figsize=(10,8))\n",
        "plt.bar(target_type['index'],target_type['targtype1_txt'])\n",
        "plt.xticks(rotation=90)\n",
        "plt.title(\"Most common target type in India\")\n",
        "plt.xlabel(\"Target\")\n",
        "plt.ylabel(\"Number of time\")\n",
        "plt.show()"
      ],
      "metadata": {
        "id": "_4LA6jzbkh4r"
      },
      "execution_count": null,
      "outputs": []
    },
    {
      "cell_type": "markdown",
      "source": [
        "##### 1. Why did you pick the specific chart?"
      ],
      "metadata": {
        "id": "1M8mcRywphqQ"
      }
    },
    {
      "cell_type": "markdown",
      "source": [
        "*Answer* Here.\n",
        "A bar chart a suitable way to display both categorical and numeric values effectively"
      ],
      "metadata": {
        "id": "8agQvks0phqQ"
      }
    },
    {
      "cell_type": "markdown",
      "source": [
        "##### 2. What is/are the insight(s) found from the chart?"
      ],
      "metadata": {
        "id": "tgIPom80phqQ"
      }
    },
    {
      "cell_type": "markdown",
      "source": [
        "Answer Here"
      ],
      "metadata": {
        "id": "Qp13pnNzphqQ"
      }
    },
    {
      "cell_type": "markdown",
      "source": [
        "##### 3. Will the gained insights help creating a positive business impact?\n",
        "Are there any insights that lead to negative growth? Justify with specific reason."
      ],
      "metadata": {
        "id": "JMzcOPDDphqR"
      }
    },
    {
      "cell_type": "markdown",
      "source": [
        "The most common targets in India are private citizens, property, and the police. To enhance security, it's essential to implement measures that reduce the incidence of attacks and ensure the safety of public places. This includes providing the police with better equipment and resources"
      ],
      "metadata": {
        "id": "R4Ka1PC2phqR"
      }
    },
    {
      "cell_type": "markdown",
      "source": [
        "#### Chart - 11\n",
        "In which month does India typically experience the highest number of terrorist attacks?"
      ],
      "metadata": {
        "id": "x-EpHcCOp1ci"
      }
    },
    {
      "cell_type": "code",
      "source": [
        "month_data=india_data.groupby('imonth')[['count']].count().reset_index()\n",
        "plt.figure(figsize=(10,4))\n",
        "plt.plot(month_data['imonth'],month_data['count'],marker='^',linewidth=3,markersize=10)\n",
        "plt.xticks(month_data['imonth'])\n",
        "plt.title( \" Which month Highest Number of Terrorist Attacks\")\n",
        "plt.xlabel(\"Month\")\n",
        "plt.ylabel(\"Number of Attack\")\n",
        "plt.show()"
      ],
      "metadata": {
        "id": "mAQTIvtqp1cj"
      },
      "execution_count": null,
      "outputs": []
    },
    {
      "cell_type": "markdown",
      "source": [
        "##### 1. Why did you pick the specific chart?"
      ],
      "metadata": {
        "id": "X_VqEhTip1ck"
      }
    },
    {
      "cell_type": "markdown",
      "source": [
        "\"I use a line plot to effectively display time-based data"
      ],
      "metadata": {
        "id": "-vsMzt_np1ck"
      }
    },
    {
      "cell_type": "markdown",
      "source": [
        "##### 2. What is/are the insight(s) found from the chart?"
      ],
      "metadata": {
        "id": "8zGJKyg5p1ck"
      }
    },
    {
      "cell_type": "markdown",
      "source": [
        "We have observed that India faces the highest number of terrorist attacks during festival months"
      ],
      "metadata": {
        "id": "ZYdMsrqVp1ck"
      }
    },
    {
      "cell_type": "markdown",
      "source": [
        "##### 3. Will the gained insights help creating a positive business impact?\n",
        "Are there any insights that lead to negative growth? Justify with specific reason."
      ],
      "metadata": {
        "id": "PVzmfK_Ep1ck"
      }
    },
    {
      "cell_type": "markdown",
      "source": [
        "We've noticed an increase in attacks during festival months, prompting us to enhance security measures."
      ],
      "metadata": {
        "id": "druuKYZpp1ck"
      }
    },
    {
      "cell_type": "markdown",
      "source": [
        "#### Chart - 12\n",
        "Q 12 > analysis of the second most prominent terrorist group worldwide ?"
      ],
      "metadata": {
        "id": "n3dbpmDWp1ck"
      }
    },
    {
      "cell_type": "code",
      "source": [
        "pakistan_data=new_data[new_data['country_txt']=='Pakistan']\n",
        "most_pgroup=pakistan_data['gname'].value_counts().head(6)[1:].reset_index()\n",
        "pakistan_data['count']=1\n",
        "most_cwepan=pakistan_data['weaptype1_txt'].value_counts().head(6).reset_index()\n",
        "most_ctarget=pakistan_data['targtype1_txt'].value_counts().head(6).reset_index()\n",
        "year_data=pakistan_data.groupby('iyear')['count'].count().reset_index()\n",
        "print(year_data)"
      ],
      "metadata": {
        "id": "bwevp1tKp1ck"
      },
      "execution_count": null,
      "outputs": []
    },
    {
      "cell_type": "code",
      "source": [
        "plt.figure(figsize=(16,12))\n",
        "ax=plt.subplot(221)\n",
        "plt.bar(most_cwepan['index'],most_cwepan['weaptype1_txt'])\n",
        "plt.xticks(rotation=30)\n",
        "plt.title(\"Weapen data in pakistan\")\n",
        "ax=plt.subplot(222)\n",
        "plt.plot(year_data['iyear'],year_data['count'],color='#00bfff',marker='o')\n",
        "plt.title(\"Show the Growth of the Terrorist Attack\")\n",
        "ax=plt.subplot(223)\n",
        "plt.bar(most_ctarget['index'],most_ctarget['targtype1_txt'],color='#808080')\n",
        "plt.xticks(rotation=60)\n",
        "plt.title(\"Most comman Target Type\")\n",
        "ax=plt.subplot(224)\n",
        "plt.bar(most_pgroup['index'],most_pgroup['gname'],color='#ff8000')\n",
        "plt.xticks(rotation=60)\n",
        "plt.title(\"Five Top Terrorist Group\")\n",
        "plt.show()"
      ],
      "metadata": {
        "id": "GU4Ts_d5vH-A"
      },
      "execution_count": null,
      "outputs": []
    },
    {
      "cell_type": "markdown",
      "source": [
        "##### 1. Why did you pick the specific chart?"
      ],
      "metadata": {
        "id": "ylSl6qgtp1ck"
      }
    },
    {
      "cell_type": "markdown",
      "source": [
        "I'm using a subplot with three bar plots and one line plot to illustrate the fundamental details of terrorist groups in Pakistan"
      ],
      "metadata": {
        "id": "m2xqNkiQp1ck"
      }
    },
    {
      "cell_type": "markdown",
      "source": [
        "##### 2. What is/are the insight(s) found from the chart?"
      ],
      "metadata": {
        "id": "ZWILFDl5p1ck"
      }
    },
    {
      "cell_type": "markdown",
      "source": [
        "The first chart illustrates the most common weapons used in Pakistan, with explosives being the predominant choice.\n",
        "\n",
        "The second chart displays the growth of terrorist groups in Pakistan, with a notable increase in attacks after 2005.\n",
        "\n",
        "The third chart focuses on the types of targets in Pakistan, highlighting private citizens as a common target while also noting the military as a significant target.\n",
        "\n",
        "The fourth chart highlights the top five terrorist groups in Pakistan, with the TTP and BRA being two of the top five, three of which have connections to the Baloch people in Pakistan."
      ],
      "metadata": {
        "id": "x-lUsV2mp1ck"
      }
    },
    {
      "cell_type": "markdown",
      "source": [
        "##### 3. Will the gained insights help creating a positive business impact?\n",
        "Are there any insights that lead to negative growth? Justify with specific reason."
      ],
      "metadata": {
        "id": "M7G43BXep1ck"
      }
    },
    {
      "cell_type": "markdown",
      "source": [
        "We've observed that addressing the concerns of the Baloch people by resolving their issues can lead to a significant reduction, up to 40%, in attacks carried out by terrorist groups associated with the Baloch cause"
      ],
      "metadata": {
        "id": "5wwDJXsLp1cl"
      }
    },
    {
      "cell_type": "markdown",
      "source": [
        "#### Chart - 13\n",
        "Q 13> We are analyzing the global success rate of terrorist attacks with region?"
      ],
      "metadata": {
        "id": "Ag9LCva-p1cl"
      }
    },
    {
      "cell_type": "code",
      "source": [
        "new_data['success'].value_counts()"
      ],
      "metadata": {
        "id": "EUfxeq9-p1cl"
      },
      "execution_count": null,
      "outputs": []
    },
    {
      "cell_type": "code",
      "source": [
        "print(plt.style.available)"
      ],
      "metadata": {
        "id": "zXWUWOsrvp8e"
      },
      "execution_count": null,
      "outputs": []
    },
    {
      "cell_type": "code",
      "source": [
        "plt.style.use('tableau-colorblind10')\n",
        "plt.figure(figsize=(12,4))\n",
        "sns.countplot(x=new_data['region_txt'],hue=new_data['success'])\n",
        "plt.xticks(rotation=60)\n",
        "plt.title(\"Show the Success rate in the region\")\n",
        "plt.xlabel(\"region\")\n",
        "plt.ylabel(\"Number of Attack\")\n",
        "plt.show()"
      ],
      "metadata": {
        "id": "dqSwo91xvqbZ"
      },
      "execution_count": null,
      "outputs": []
    },
    {
      "cell_type": "markdown",
      "source": [
        "##### 1. Why did you pick the specific chart?"
      ],
      "metadata": {
        "id": "E6MkPsBcp1cl"
      }
    },
    {
      "cell_type": "markdown",
      "source": [
        "I ues the bar plot of the seaborn it use show the sub type"
      ],
      "metadata": {
        "id": "V22bRsFWp1cl"
      }
    },
    {
      "cell_type": "markdown",
      "source": [
        "##### 2. What is/are the insight(s) found from the chart?"
      ],
      "metadata": {
        "id": "2cELzS2fp1cl"
      }
    },
    {
      "cell_type": "markdown",
      "source": [
        "we the sucess rate of the terrorist attack on the region we see the sucess rate higher on the middel east and north africa and we the most safe region is the australasia & Oceania"
      ],
      "metadata": {
        "id": "ozQPc2_Ip1cl"
      }
    },
    {
      "cell_type": "markdown",
      "source": [
        "##### 3. Will the gained insights help creating a positive business impact?\n",
        "Are there any insights that lead to negative growth? Justify with specific reason."
      ],
      "metadata": {
        "id": "3MPXvC8up1cl"
      }
    },
    {
      "cell_type": "markdown",
      "source": [
        "We've observed the success rate of attacks and are formulating strategies based on regional data\n",
        "\n"
      ],
      "metadata": {
        "id": "GL8l1tdLp1cl"
      }
    },
    {
      "cell_type": "markdown",
      "source": [
        "#### Chart - 14 - Correlation Heatmap\n",
        "Q 15> find the quality of the filter data"
      ],
      "metadata": {
        "id": "NC_X3p0fY2L0"
      }
    },
    {
      "cell_type": "code",
      "source": [
        "null_matrix = new_data.isnull()\n",
        "plt.figure(figsize=(10, 6))\n",
        "sns.heatmap(null_matrix, cbar=False, cmap='viridis')\n",
        "plt.title('Null Values Heatmap')\n",
        "plt.show()\n"
      ],
      "metadata": {
        "id": "xyC9zolEZNRQ"
      },
      "execution_count": null,
      "outputs": []
    },
    {
      "cell_type": "markdown",
      "source": [
        "##### 1. Why did you pick the specific chart?"
      ],
      "metadata": {
        "id": "UV0SzAkaZNRQ"
      }
    },
    {
      "cell_type": "markdown",
      "source": [
        "we use the heatmap of the large data it show the two-dimensional graphical representation of data, each value in a matrix is represented by a different colour"
      ],
      "metadata": {
        "id": "DVPuT8LYZNRQ"
      }
    },
    {
      "cell_type": "markdown",
      "source": [
        "##### 2. What is/are the insight(s) found from the chart?"
      ],
      "metadata": {
        "id": "YPEH6qLeZNRQ"
      }
    },
    {
      "cell_type": "markdown",
      "source": [
        "it help how show the null value in the dataset"
      ],
      "metadata": {
        "id": "bfSqtnDqZNRR"
      }
    },
    {
      "cell_type": "markdown",
      "source": [
        "#### Chart - 15 - Pair Plot"
      ],
      "metadata": {
        "id": "q29F0dvdveiT"
      }
    },
    {
      "cell_type": "code",
      "source": [
        "new_data['count']=1\n",
        "new_data.columns"
      ],
      "metadata": {
        "id": "o58-TEIhveiU"
      },
      "execution_count": null,
      "outputs": []
    },
    {
      "cell_type": "code",
      "source": [
        "plt.style.use('bmh')\n",
        "pair_plot=new_data.groupby('iyear')[['nkill','count']].sum()\n",
        "pair_plot['success']=new_data['success']\n",
        "sns.pairplot(pair_plot,vars=['nkill','count'],hue='success')"
      ],
      "metadata": {
        "id": "8aI0aaQc0Wyk"
      },
      "execution_count": null,
      "outputs": []
    },
    {
      "cell_type": "markdown",
      "source": [
        "##### 1. Why did you pick the specific chart?"
      ],
      "metadata": {
        "id": "EXh0U9oCveiU"
      }
    },
    {
      "cell_type": "markdown",
      "source": [
        "Plot pairwise relationships in a dataset. By default, this function will create a grid of Axes such that each numeric variable in data will by shared across the y-axes across a single row and the x-axes across a single column"
      ],
      "metadata": {
        "id": "eMmPjTByveiU"
      }
    },
    {
      "cell_type": "markdown",
      "source": [
        "##### 2. What is/are the insight(s) found from the chart?"
      ],
      "metadata": {
        "id": "22aHeOlLveiV"
      }
    },
    {
      "cell_type": "markdown",
      "source": [
        "We observed that in the pair plot, there is a notable trend where an increase in the number of attacks is associated with a higher number of people killed and a higher success rate"
      ],
      "metadata": {
        "id": "uPQ8RGwHveiV"
      }
    },
    {
      "cell_type": "markdown",
      "source": [
        "## **5. Solution to Business Objective**\n",
        "\n"
      ],
      "metadata": {
        "id": "JcMwzZxoAimU"
      }
    },
    {
      "cell_type": "markdown",
      "source": [
        "#### What do you suggest the client to achieve Business Objective ?\n",
        "Explain Briefly."
      ],
      "metadata": {
        "id": "8G2x9gOozGDZ"
      }
    },
    {
      "cell_type": "markdown",
      "source": [
        "1. Intelligence and Information Sharing: First, we begin by analyzing and sharing all the data with the police and other intelligence agencies.\n",
        "\n",
        "2. Community Engagement: Provide more security to community engagement because the most common target is the citizenry.\n",
        "\n",
        "3. Cybersecurity Measures: Enhance cybersecurity to protect critical infrastructure from cyberterrorism.\n",
        "\n",
        "4. International Cooperation: Identify common terrorist groups in each country and work on stopping illegal arms trade.\n",
        "\n",
        "5. Border Security: Monitor and secure national borders to prevent the movement of terrorists and contraband. Most terrorists come from other countries.\n",
        "\n",
        "6. Financial and Resource Tracking: Monitoring and disrupting the financial networks that support terrorism.\n",
        "\n",
        "7. Counterterrorism Legislation: Implementing and enforcing specific counterterrorism laws to prosecute individuals and organizations involved in terrorism."
      ],
      "metadata": {
        "id": "pASKb0qOza21"
      }
    },
    {
      "cell_type": "markdown",
      "source": [
        "# **Conclusion**"
      ],
      "metadata": {
        "id": "gCX9965dhzqZ"
      }
    },
    {
      "cell_type": "markdown",
      "source": [
        "\n",
        "1. First, we find the data source. We find the primary collection has 43.38%, and the second is PGIS with 34.78% data share.\n",
        "\n",
        "2. The number of people killed by terrorist attacks between 1970-2017 showed a massive growth in attacks after 2010.\n",
        "\n",
        "3. We find the largest terrorist groups in the world are the Taliban and (ISIL). We also find the most targeted countries in the world are Iraq, second Pakistan, third Afghanistan, and fourth India.\n",
        "\n",
        "4. Now we find the most active group in Iraq and the weapons they use. We see the terrorist group named (ISIL), and the most common weapon is explosives.\n",
        "\n",
        "5. We find the most common target types in the Middle East & North Africa are private citizens and the military. In South Asia, the most common targets are private citizens and the military.\n",
        "\n",
        "6. We analyze the Indian data:\n",
        "\n",
        "   6.1. We find the most active terrorist groups are (CPI-Maoist) and second Maoists.\n",
        "\n",
        "   6.2. The most attacked cities are Srinagar, Imphal, and Delhi.\n",
        "\n",
        "   6.3. Top terrorist groups in India and their respective states:\n",
        "\n",
        "        a> Chhattisgarh group's name is Maoists.\n",
        "\n",
        "        b> Punjab group's name is Sikh Extremists.\n",
        "\n",
        "        c> Assam group's name is (ULFA).\n",
        "\n",
        "        d> Jammu and Kashmir group's name is Hizbul Mujahideen.\n",
        "\n",
        "   6.4. Find the growth of terrorist groups:\n",
        "\n",
        "        a> Sikh Extremists started in 1982 and were active until 1994.\n",
        "\n",
        "        b> (CPI-Maoist) started in 2005 and is active until now.\n",
        "\n",
        "        c> Lashkar-e-Taiba started in 1996 and is active until now.\n",
        "\n",
        "   6.5. The most common targets in India are private citizens and property, and\n",
        "        second is the police.\n",
        "\n",
        "   6.6. The months with the highest number of attacks in India are April, May,\n",
        "        and August.\n",
        "\n",
        "7. The second most prominent terrorist group worldwide is in Pakistan:\n",
        "   a> The most common weapons used in Pakistan attacks are explosives and\n",
        "   firearms.\n",
        "\n",
        "   b> Showing the growth of terrorist attacks in Pakistan, we observe a high\n",
        "   number of attacks after 2010.\n",
        "\n",
        "   c> The most common targets in Pakistan are private citizens and property and  second is the police.\n",
        "\n",
        "   d> The most active groups in Pakistan are (TTP) and (BRA).\n",
        "\n",
        "8. We see the global terrorist success rate is 80.89%.\n",
        "\n",
        "9. We observe null values in the dataset, with some columns having a 30% null value.\n",
        "\n",
        "10. When using the pairplot, we observe that 80% of the attacks result in only 30% of people being killed, and in 20% of attacks, 70% of people are killed.\n",
        "       \n",
        "\n"
      ],
      "metadata": {
        "id": "Fjb1IsQkh3yE"
      }
    },
    {
      "cell_type": "markdown",
      "source": [
        "### ***Hurrah! You have successfully completed your EDA Capstone Project !!!***"
      ],
      "metadata": {
        "id": "gIfDvo9L0UH2"
      }
    }
  ]
}